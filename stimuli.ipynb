{
 "cells": [
  {
   "cell_type": "code",
   "execution_count": 10,
   "id": "156106d3",
   "metadata": {},
   "outputs": [],
   "source": [
    "import numpy as np\n",
    "import cairo\n",
    "import math\n",
    "from io import BytesIO\n",
    "from IPython.display import Image, display"
   ]
  },
  {
   "cell_type": "code",
   "execution_count": 11,
   "id": "dba00e5e",
   "metadata": {},
   "outputs": [],
   "source": [
    "\n",
    "def disp(draw_func):\n",
    "    surface = cairo.ImageSurface(cairo.FORMAT_ARGB32, 200, 200)\n",
    "    ctx = cairo.Context(surface)\n",
    "    draw_func(ctx, 200, 200)\n",
    "    with BytesIO() as fileobj:\n",
    "        surface.write_to_png(fileobj)\n",
    "        display(Image(fileobj.getvalue(), width=200))\n"
   ]
  },
  {
   "cell_type": "code",
   "execution_count": 135,
   "id": "6255953f",
   "metadata": {},
   "outputs": [
    {
     "data": {
      "image/png": "[encoded data removed]",
      "text/plain": [
       "<IPython.core.display.Image object>"
      ]
     },
     "metadata": {
      "image/png": {
       "width": 200
      }
     },
     "output_type": "display_data"
    }
   ],
   "source": [
    "@disp\n",
    "def kanisza_lines(ctx, width, height):\n",
    "    ctx.scale(width, height) # eg1\n",
    "\n",
    "    ctx.set_source_rgb(0, 0, 0 )\n",
    "    ctx.arc(0.5, 0.75, .05, 0, 2*np.pi)\n",
    "    ctx.fill()\n",
    "    ctx.arc(0.25, 0.25, .05, 0, 2*np.pi)\n",
    "    ctx.fill()\n",
    "    ctx.arc(0.75, 0.25, .05, 0, 2*np.pi)\n",
    "    ctx.fill()\n",
    "\n",
    "    ctx.set_line_width(0.01)\n",
    "    ctx.set_source_rgb(1, 1, 1)\n",
    "    ctx.move_to(0.5, 0.75)\n",
    "    ctx.line_to(0.25, 0.25)\n",
    "    ctx.line_to(0.75, 0.25)\n",
    "    ctx.line_to(0.5, 0.75)\n",
    "    ctx.stroke()\n"
   ]
  },
  {
   "cell_type": "code",
   "execution_count": 134,
   "id": "1b9ea9a6",
   "metadata": {},
   "outputs": [
    {
     "data": {
      "image/png": "[encoded data removed]",
      "text/plain": [
       "<IPython.core.display.Image object>"
      ]
     },
     "metadata": {
      "image/png": {
       "width": 200
      }
     },
     "output_type": "display_data"
    }
   ],
   "source": [
    "@disp\n",
    "def kanisza_triangle(ctx, width, height):\n",
    "    ctx.scale(width, height) # eg1\n",
    "\n",
    "    ctx.set_source_rgb(0, 0, 0 )\n",
    "    ctx.arc(0.5, 0.75, .05, 0, 2*np.pi)\n",
    "    ctx.fill()\n",
    "    ctx.arc(0.25, 0.25, .05, 0, 2*np.pi)\n",
    "    ctx.fill()\n",
    "    ctx.arc(0.75, 0.25, .05, 0, 2*np.pi)\n",
    "    ctx.fill()\n",
    "\n",
    "    ctx.set_line_width(0.01)\n",
    "    ctx.set_source_rgb(1, 1, 1)\n",
    "    ctx.move_to(0.5, 0.75)\n",
    "    ctx.line_to(0.25, 0.25)\n",
    "    ctx.line_to(0.75, 0.25)\n",
    "    ctx.line_to(0.5, 0.75)\n",
    "    ctx.fill()"
   ]
  },
  {
   "cell_type": "code",
   "execution_count": 182,
   "id": "2a2b6c04",
   "metadata": {},
   "outputs": [
    {
     "data": {
      "image/png": "[encoded data removed]",
      "text/plain": [
       "<IPython.core.display.Image object>"
      ]
     },
     "metadata": {
      "image/png": {
       "width": 200
      }
     },
     "output_type": "display_data"
    }
   ],
   "source": [
    "@disp\n",
    "def kanisza_square(ctx, width, height):\n",
    "    ctx.scale(width, height)\n",
    "    ctx.stroke()\n",
    "    ctx.arc(0.9, 0.9, 0.05, 0, 2*np.pi)\n",
    "    ctx.fill()\n",
    "    ctx.arc(0.1, 0.1, 0.05, 0, 2*np.pi)\n",
    "    ctx.fill()\n",
    "    ctx.arc(0.9, 0.1, 0.05, 0, 2*np.pi)\n",
    "    ctx.fill()\n",
    "    ctx.arc(0.1, 0.9, 0.05, 0, 2*np.pi)\n",
    "    ctx.fill()\n",
    "    \n",
    "    ctx.set_source_rgb(1, 1, 1)\n",
    "    ctx.rectangle(0.1, 0.1, 0.8, 0.8)\n",
    "    ctx.fill()\n",
    "    "
   ]
  },
  {
   "cell_type": "code",
   "execution_count": 260,
   "id": "dacaa0dc",
   "metadata": {},
   "outputs": [
    {
     "data": {
      "image/png": "[encoded data removed]",
      "text/plain": [
       "<IPython.core.display.Image object>"
      ]
     },
     "metadata": {
      "image/png": {
       "width": 200
      }
     },
     "output_type": "display_data"
    }
   ],
   "source": [
    "@disp\n",
    "def column_grouping(ctx, width, height, shrink=0.2):\n",
    "    ctx.scale(width, height)\n",
    "\n",
    "    for i in np.linspace(0.1 + shrink, 0.9 - shrink, 4):\n",
    "        for j in np.linspace(0.1, 0.9, 4):\n",
    "            ctx.arc(i, j, 0.05, 0, 2*np.pi)\n",
    "            ctx.fill()"
   ]
  },
  {
   "cell_type": "code",
   "execution_count": 261,
   "id": "1d2d0bb9",
   "metadata": {},
   "outputs": [
    {
     "data": {
      "image/png": "[encoded data removed]",
      "text/plain": [
       "<IPython.core.display.Image object>"
      ]
     },
     "metadata": {
      "image/png": {
       "width": 200
      }
     },
     "output_type": "display_data"
    }
   ],
   "source": [
    "@disp\n",
    "def row_grouping(ctx, width, height, shrink=0.2):\n",
    "    ctx.scale(width, height)\n",
    "\n",
    "    for i in np.linspace(0.1, 0.9, 4):\n",
    "        for j in np.linspace(0.1 + shrink, 0.9 - shrink, 4):\n",
    "            ctx.arc(i, j, 0.05, 0, 2*np.pi)\n",
    "            ctx.fill()"
   ]
  },
  {
   "cell_type": "code",
   "execution_count": 262,
   "id": "eb3f6430",
   "metadata": {},
   "outputs": [
    {
     "data": {
      "image/png": "[encoded data removed]",
      "text/plain": [
       "<IPython.core.display.Image object>"
      ]
     },
     "metadata": {
      "image/png": {
       "width": 200
      }
     },
     "output_type": "display_data"
    }
   ],
   "source": [
    "@disp\n",
    "def color_vs_spatial(ctx, width, height):\n",
    "    ctx.scale(width, height)\n",
    "    \n",
    "    color = True\n",
    "    for i in np.linspace(0.1, 0.9, 4):\n",
    "        for j in np.linspace(0.3, 0.7, 4):\n",
    "            if color:\n",
    "                ctx.set_source_rgb(1, 0, 1)\n",
    "                color = False\n",
    "            else:\n",
    "                ctx.set_source_rgb(0, 0, 0)\n",
    "                color = True\n",
    "            ctx.arc(i, j, 0.05, 0, 2*np.pi)\n",
    "            ctx.fill()"
   ]
  },
  {
   "cell_type": "code",
   "execution_count": 263,
   "id": "2d44c9a5",
   "metadata": {},
   "outputs": [
    {
     "data": {
      "image/png": "[encoded data removed]",
      "text/plain": [
       "<IPython.core.display.Image object>"
      ]
     },
     "metadata": {
      "image/png": {
       "width": 200
      }
     },
     "output_type": "display_data"
    }
   ],
   "source": [
    "@disp\n",
    "def color_grouping(ctx, width, height):\n",
    "    ctx.scale(width, height)\n",
    "    \n",
    "    col = 0\n",
    "    for i in np.linspace(0.1, 0.9, 4):\n",
    "        \n",
    "        for j in np.linspace(0.1, 0.9, 4):\n",
    "            if col % 2 == 0:\n",
    "                ctx.set_source_rgb(0.3, 0.93, .1)\n",
    "            else:\n",
    "                ctx.set_source_rgb(0, 0, 0)\n",
    "     \n",
    "            ctx.arc(i, j, 0.05, 0, 2*np.pi)\n",
    "            ctx.fill()\n",
    "        \n",
    "        col += 1"
   ]
  },
  {
   "cell_type": "code",
   "execution_count": 638,
   "id": "689e20cd",
   "metadata": {},
   "outputs": [
    {
     "data": {
      "image/png": "[encoded data removed]",
      "text/plain": [
       "<IPython.core.display.Image object>"
      ]
     },
     "metadata": {
      "image/png": {
       "width": 200
      }
     },
     "output_type": "display_data"
    }
   ],
   "source": [
    "@disp\n",
    "def color_grouping(ctx, width, height):\n",
    "    ctx.scale(width, height)\n",
    "    \n",
    "    color = True\n",
    "    for i in np.linspace(0.1, 0.9, 4):\n",
    "        for j in np.linspace(0.1, 0.9, 4):\n",
    "            if color:\n",
    "                ctx.set_source_rgb(0.3, 0.93, .1)\n",
    "                color = False\n",
    "            else:\n",
    "                ctx.set_source_rgb(0, 0, 0)\n",
    "                color = True\n",
    "     \n",
    "            ctx.arc(i, j, 0.05, 0, 2*np.pi)\n",
    "            ctx.fill()"
   ]
  },
  {
   "cell_type": "code",
   "execution_count": 264,
   "id": "ae052fdc",
   "metadata": {},
   "outputs": [
    {
     "data": {
      "image/png": "[encoded data removed]",
      "text/plain": [
       "<IPython.core.display.Image object>"
      ]
     },
     "metadata": {
      "image/png": {
       "width": 200
      }
     },
     "output_type": "display_data"
    }
   ],
   "source": [
    "@disp\n",
    "def popout(ctx, width, height, color_difference=0.9):\n",
    "    ctx.scale(width, height)\n",
    "    count = 0\n",
    "    \n",
    "    for i in np.linspace(0.1, 0.9, 8):\n",
    "        for j in np.linspace(0.1, 0.9, 8):\n",
    "            if count == 36:\n",
    "                ctx.set_source_rgb(1, 0 + color_difference, 0)\n",
    "            else:\n",
    "                ctx.set_source_rgb(1, 0, 0.)\n",
    "                \n",
    "            ctx.arc(i, j, 0.05, 0, 2*np.pi)\n",
    "            ctx.fill()\n",
    "            count += 1"
   ]
  },
  {
   "cell_type": "code",
   "execution_count": 300,
   "id": "f06bfa6d",
   "metadata": {},
   "outputs": [
    {
     "data": {
      "image/png": "[encoded data removed]",
      "text/plain": [
       "<IPython.core.display.Image object>"
      ]
     },
     "metadata": {
      "image/png": {
       "width": 200
      }
     },
     "output_type": "display_data"
    }
   ],
   "source": [
    "@disp\n",
    "def five_point_star(ctx, width, height):\n",
    "    ctx.scale(width, height)\n",
    "    ctx.move_to(0.2, 0.8)   # bottom left\n",
    "    ctx.line_to(0.5, 0)     # top middle \n",
    "    ctx.line_to(0.8, 0.8)   # bottom right\n",
    "    ctx.line_to(0.15, 0.3)   # left point\n",
    "    ctx.line_to(0.85, 0.3)   # right point\n",
    "    ctx.line_to(0.2, 0.8)   # back to start\n",
    "    ctx.fill()"
   ]
  },
  {
   "cell_type": "code",
   "execution_count": 639,
   "id": "7664230f",
   "metadata": {},
   "outputs": [
    {
     "data": {
      "image/png": "[encoded data removed]",
      "text/plain": [
       "<IPython.core.display.Image object>"
      ]
     },
     "metadata": {
      "image/png": {
       "width": 200
      }
     },
     "output_type": "display_data"
    }
   ],
   "source": [
    "def triangle(ctx, points, color):\n",
    "    ctx.set_source_rgb(*color)\n",
    "    ctx.move_to(*points[0])\n",
    "    ctx.line_to(*points[1])\n",
    "    ctx.line_to(*points[2])\n",
    "    ctx.fill()\n",
    "    \n",
    "    \n",
    "@disp\n",
    "def six_point_star(ctx, width, height, invisible_star=\"none\"):\n",
    "    \"\"\"\n",
    "        invisible_star: str: ['down', 'up', 'None'] --> creates a tri-force effect\n",
    "                             facing either up or down (or opaque six pointed star if none)\n",
    "    \"\"\"\n",
    "    ctx.scale(width, height)\n",
    "    \n",
    "    # down-facing triangle\n",
    "    down_facing_points = [(0.2, 0.3), (0.8, 0.3), (0.5, 0.8)]\n",
    "    up_facing_points = [(0.2, 0.65), (0.8, 0.65), (0.5, 0.15)]\n",
    "    \n",
    "    if invisible_star == \"down\":\n",
    "        triangle(ctx, up_facing_points, (0, 0, 0))\n",
    "        triangle(ctx, down_facing_points, (1, 1, 1))\n",
    "        \n",
    "    elif invisible_star == \"up\":\n",
    "        triangle(ctx, down_facing_points, (0, 0, 0))\n",
    "        triangle(ctx, up_facing_points, (1, 1, 1))\n",
    "        \n",
    "    else:\n",
    "        triangle(ctx, down_facing_points, (0, 0, 0))\n",
    "        triangle(ctx, up_facing_points, (0, 0, 0))"
   ]
  },
  {
   "cell_type": "code",
   "execution_count": 640,
   "id": "645f03ad",
   "metadata": {},
   "outputs": [
    {
     "data": {
      "image/png": "[encoded data removed]",
      "text/plain": [
       "<IPython.core.display.Image object>"
      ]
     },
     "metadata": {
      "image/png": {
       "width": 200
      }
     },
     "output_type": "display_data"
    }
   ],
   "source": [
    "@disp\n",
    "def good_continuation(ctx, width, height):\n",
    "    ctx.scale(width, height)\n",
    "    ctx.set_source_rgb(0, 0, 0)\n",
    "    ctx.set_line_width(0.01)\n",
    "    \n",
    "    ctx.move_to(0.1, 0.1)\n",
    "    ctx.line_to(0.9, 0.9)\n",
    "    ctx.stroke()\n",
    "    \n",
    "    ctx.move_to(0.5, 0.9)\n",
    "    ctx.line_to(0.5, 0.1)\n",
    "    ctx.stroke()\n",
    "    \n",
    "    ctx.move_to(0.1, 0.65)\n",
    "    ctx.line_to(0.75, 0.1)\n",
    "    ctx.stroke()\n",
    "\n",
    "    ctx.set_source_rgb(1, 1, 1)\n",
    "    ctx.rectangle(0.2, 0.2, 0.4, 0.4)   \n",
    "    ctx.fill()"
   ]
  },
  {
   "cell_type": "code",
   "execution_count": 436,
   "id": "086e656d",
   "metadata": {},
   "outputs": [
    {
     "data": {
      "image/png": "[encoded data removed]",
      "text/plain": [
       "<IPython.core.display.Image object>"
      ]
     },
     "metadata": {
      "image/png": {
       "width": 200
      }
     },
     "output_type": "display_data"
    }
   ],
   "source": [
    "@disp \n",
    "def good_continuation_circles(ctx, width, height):\n",
    "    ctx.scale(width, height)\n",
    "    ctx.set_line_width(0.01)\n",
    "\n",
    "    ctx.arc(0.5, 0.5, 0.25, 0, 2*np.pi)\n",
    "    ctx.stroke()\n",
    "    \n",
    "    ctx.set_line_width(0.25)\n",
    "\n",
    "    ctx.set_source_rgb(1, 1, 1)\n",
    "    ctx.move_to(0.1, 0.9)\n",
    "    ctx.line_to(0.9, 0.1)\n",
    "    ctx.stroke()\n",
    "\n",
    "    ctx.set_line_width(0.2)\n",
    "    ctx.move_to(0.8, 0.9)\n",
    "    ctx.line_to(0.1, 0.1)\n",
    "    ctx.stroke()"
   ]
  },
  {
   "cell_type": "code",
   "execution_count": 519,
   "id": "78ae278a",
   "metadata": {},
   "outputs": [
    {
     "data": {
      "image/png": "[encoded data removed]",
      "text/plain": [
       "<IPython.core.display.Image object>"
      ]
     },
     "metadata": {
      "image/png": {
       "width": 200
      }
     },
     "output_type": "display_data"
    }
   ],
   "source": [
    "@disp\n",
    "def good_continuation_2(ctx, width, height):\n",
    "    ctx.scale(width, height)\n",
    "    ctx.set_line_width(0.05)\n",
    "    ctx.curve_to(0.9, 0.1, 0.5, 0.5, 0.9, 0.9)\n",
    "    ctx.stroke()\n",
    "    \n",
    "    ctx.set_source_rgb(1, 0, 1)\n",
    "    ctx.curve_to(0.2, 0.5, 0.9, 0.9, 0.9, 0.4)\n",
    "    ctx.stroke()\n",
    "    \n",
    "    ctx.curve_to(0.95, 0.8, 0.5, 0.8, 0.6, 0.4)\n",
    "    ctx.stroke()\n",
    "    "
   ]
  },
  {
   "cell_type": "code",
   "execution_count": 646,
   "id": "890d28e2",
   "metadata": {},
   "outputs": [
    {
     "data": {
      "image/png": "[encoded data removed]",
      "text/plain": [
       "<IPython.core.display.Image object>"
      ]
     },
     "metadata": {
      "image/png": {
       "width": 200
      }
     },
     "output_type": "display_data"
    }
   ],
   "source": [
    "@disp\n",
    "def grouping_vs_continuation(ctx, width, height, different_colors=True):\n",
    "    ctx.scale(width, height)\n",
    "\n",
    "    xs = np.linspace(-np.pi, np.pi, 15)\n",
    "    ys = np.sin(xs)\n",
    "    xs = np.clip((xs + np.pi) / (2 * np.pi), 0.05, 0.95)\n",
    "    ys = np.clip((ys + 1) / np.max(ys + 1), 0.05, 0.95)\n",
    "    \n",
    "    for i in range(len(xs)):\n",
    "        ctx.arc(xs[i], ys[i], 0.025, 0, 2*np.pi)\n",
    "        ctx.fill()\n",
    "        \n",
    "    if different_colors:\n",
    "        ctx.set_source_rgb(0, 0.25, 1)\n",
    "    for i in range(len(xs)):\n",
    "        ctx.arc(xs[i], 1.01 - ys[i], 0.015, 0, 2*np.pi)\n",
    "        ctx.fill()\n",
    "        \n",
    "        "
   ]
  },
  {
   "cell_type": "code",
   "execution_count": null,
   "id": "1c4ead69",
   "metadata": {},
   "outputs": [],
   "source": []
  }
 ],
 "metadata": {
  "kernelspec": {
   "display_name": "Python 3 (ipykernel)",
   "language": "python",
   "name": "python3"
  },
  "language_info": {
   "codemirror_mode": {
    "name": "ipython",
    "version": 3
   },
   "file_extension": ".py",
   "mimetype": "text/x-python",
   "name": "python",
   "nbconvert_exporter": "python",
   "pygments_lexer": "ipython3",
   "version": "3.9.12"
  }
 },
 "nbformat": 4,
 "nbformat_minor": 5
}
